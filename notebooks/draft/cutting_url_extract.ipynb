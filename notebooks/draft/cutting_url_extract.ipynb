{
 "cells": [
  {
   "cell_type": "code",
   "execution_count": 2,
   "metadata": {
    "collapsed": false
   },
   "outputs": [],
   "source": [
    "#For data\n",
    "import pandas as pd\n",
    "from pandas import Series,DataFrame\n",
    "\n",
    "#joel-20091112-xuc.tgz"
   ]
  },
  {
   "cell_type": "code",
   "execution_count": 15,
   "metadata": {
    "collapsed": false
   },
   "outputs": [],
   "source": [
    "scraping_df = pd.read_csv('/Users/kevenlemoing/Sites/sandvik_code_assignement/data/scraping_result.csv',error_bad_lines=False)"
   ]
  },
  {
   "cell_type": "code",
   "execution_count": 16,
   "metadata": {
    "collapsed": false
   },
   "outputs": [
    {
     "data": {
      "text/html": [
       "<div>\n",
       "<table border=\"1\" class=\"dataframe\">\n",
       "  <thead>\n",
       "    <tr style=\"text-align: right;\">\n",
       "      <th></th>\n",
       "      <th>Unnamed: 0</th>\n",
       "      <th>date</th>\n",
       "      <th>size</th>\n",
       "      <th>sub_link</th>\n",
       "    </tr>\n",
       "  </thead>\n",
       "  <tbody>\n",
       "    <tr>\n",
       "      <th>0</th>\n",
       "      <td>0</td>\n",
       "      <td>2010-07-20 09:47:00</td>\n",
       "      <td>1.3M</td>\n",
       "      <td>1028-20100710-hne.tgz</td>\n",
       "    </tr>\n",
       "    <tr>\n",
       "      <th>1</th>\n",
       "      <td>1</td>\n",
       "      <td>2017-03-24 04:09:00</td>\n",
       "      <td>1.1M</td>\n",
       "      <td>1337ad-20170321-ajg.tgz</td>\n",
       "    </tr>\n",
       "    <tr>\n",
       "      <th>2</th>\n",
       "      <td>2</td>\n",
       "      <td>2017-03-24 04:09:00</td>\n",
       "      <td>1.1M</td>\n",
       "      <td>1337ad-20170321-tkg.tgz</td>\n",
       "    </tr>\n",
       "    <tr>\n",
       "      <th>3</th>\n",
       "      <td>3</td>\n",
       "      <td>2017-03-24 04:09:00</td>\n",
       "      <td>1.0M</td>\n",
       "      <td>1337ad-20170321-ynk.tgz</td>\n",
       "    </tr>\n",
       "    <tr>\n",
       "      <th>4</th>\n",
       "      <td>4</td>\n",
       "      <td>2012-05-11 04:52:00</td>\n",
       "      <td>1.5M</td>\n",
       "      <td>1snoke-20120412-hge.tgz</td>\n",
       "    </tr>\n",
       "  </tbody>\n",
       "</table>\n",
       "</div>"
      ],
      "text/plain": [
       "   Unnamed: 0                 date  size                 sub_link\n",
       "0           0  2010-07-20 09:47:00  1.3M    1028-20100710-hne.tgz\n",
       "1           1  2017-03-24 04:09:00  1.1M  1337ad-20170321-ajg.tgz\n",
       "2           2  2017-03-24 04:09:00  1.1M  1337ad-20170321-tkg.tgz\n",
       "3           3  2017-03-24 04:09:00  1.0M  1337ad-20170321-ynk.tgz\n",
       "4           4  2012-05-11 04:52:00  1.5M  1snoke-20120412-hge.tgz"
      ]
     },
     "execution_count": 16,
     "metadata": {},
     "output_type": "execute_result"
    }
   ],
   "source": [
    "scraping_df.head()"
   ]
  },
  {
   "cell_type": "code",
   "execution_count": 17,
   "metadata": {
    "collapsed": false
   },
   "outputs": [
    {
     "data": {
      "text/html": [
       "<div>\n",
       "<table border=\"1\" class=\"dataframe\">\n",
       "  <thead>\n",
       "    <tr style=\"text-align: right;\">\n",
       "      <th></th>\n",
       "      <th>date</th>\n",
       "      <th>size</th>\n",
       "      <th>sub_link</th>\n",
       "    </tr>\n",
       "  </thead>\n",
       "  <tbody>\n",
       "    <tr>\n",
       "      <th>0</th>\n",
       "      <td>2010-07-20 09:47:00</td>\n",
       "      <td>1.3M</td>\n",
       "      <td>1028-20100710-hne.tgz</td>\n",
       "    </tr>\n",
       "    <tr>\n",
       "      <th>1</th>\n",
       "      <td>2017-03-24 04:09:00</td>\n",
       "      <td>1.1M</td>\n",
       "      <td>1337ad-20170321-ajg.tgz</td>\n",
       "    </tr>\n",
       "    <tr>\n",
       "      <th>2</th>\n",
       "      <td>2017-03-24 04:09:00</td>\n",
       "      <td>1.1M</td>\n",
       "      <td>1337ad-20170321-tkg.tgz</td>\n",
       "    </tr>\n",
       "    <tr>\n",
       "      <th>3</th>\n",
       "      <td>2017-03-24 04:09:00</td>\n",
       "      <td>1.0M</td>\n",
       "      <td>1337ad-20170321-ynk.tgz</td>\n",
       "    </tr>\n",
       "    <tr>\n",
       "      <th>4</th>\n",
       "      <td>2012-05-11 04:52:00</td>\n",
       "      <td>1.5M</td>\n",
       "      <td>1snoke-20120412-hge.tgz</td>\n",
       "    </tr>\n",
       "  </tbody>\n",
       "</table>\n",
       "</div>"
      ],
      "text/plain": [
       "                  date  size                 sub_link\n",
       "0  2010-07-20 09:47:00  1.3M    1028-20100710-hne.tgz\n",
       "1  2017-03-24 04:09:00  1.1M  1337ad-20170321-ajg.tgz\n",
       "2  2017-03-24 04:09:00  1.1M  1337ad-20170321-tkg.tgz\n",
       "3  2017-03-24 04:09:00  1.0M  1337ad-20170321-ynk.tgz\n",
       "4  2012-05-11 04:52:00  1.5M  1snoke-20120412-hge.tgz"
      ]
     },
     "execution_count": 17,
     "metadata": {},
     "output_type": "execute_result"
    }
   ],
   "source": [
    "#Check types to see if we are still aligned\n",
    "scraping_df = scraping_df.drop('Unnamed: 0',axis=1)\n",
    "scraping_df.head()"
   ]
  },
  {
   "cell_type": "code",
   "execution_count": 25,
   "metadata": {
    "collapsed": false
   },
   "outputs": [
    {
     "name": "stdout",
     "output_type": "stream",
     "text": [
      "4507\n"
     ]
    }
   ],
   "source": [
    "#get index of my last sub_link downloaded\n",
    "for i in range (len(scraping_df['sub_link'])):\n",
    "    if scraping_df['sub_link'][i] == 'joel-20091112-xuc.tgz':\n",
    "        print i"
   ]
  },
  {
   "cell_type": "code",
   "execution_count": 26,
   "metadata": {
    "collapsed": true
   },
   "outputs": [],
   "source": [
    "scraping_df_sliced = scraping_df.copy()"
   ]
  },
  {
   "cell_type": "code",
   "execution_count": 28,
   "metadata": {
    "collapsed": false
   },
   "outputs": [],
   "source": [
    "scraping_df_sliced = scraping_df_sliced.loc[4507:, :]"
   ]
  },
  {
   "cell_type": "code",
   "execution_count": 29,
   "metadata": {
    "collapsed": false
   },
   "outputs": [
    {
     "data": {
      "text/html": [
       "<div>\n",
       "<table border=\"1\" class=\"dataframe\">\n",
       "  <thead>\n",
       "    <tr style=\"text-align: right;\">\n",
       "      <th></th>\n",
       "      <th>date</th>\n",
       "      <th>size</th>\n",
       "      <th>sub_link</th>\n",
       "    </tr>\n",
       "  </thead>\n",
       "  <tbody>\n",
       "    <tr>\n",
       "      <th>4507</th>\n",
       "      <td>2010-02-18 18:38:00</td>\n",
       "      <td>1.5M</td>\n",
       "      <td>joel-20091112-xuc.tgz</td>\n",
       "    </tr>\n",
       "    <tr>\n",
       "      <th>4508</th>\n",
       "      <td>2010-02-18 22:28:00</td>\n",
       "      <td>970K</td>\n",
       "      <td>joel-20091112-zbl.tgz</td>\n",
       "    </tr>\n",
       "    <tr>\n",
       "      <th>4509</th>\n",
       "      <td>2010-02-02 16:18:00</td>\n",
       "      <td>1.0M</td>\n",
       "      <td>joel-20091116-aqq.tgz</td>\n",
       "    </tr>\n",
       "    <tr>\n",
       "      <th>4510</th>\n",
       "      <td>2010-02-02 16:18:00</td>\n",
       "      <td>930K</td>\n",
       "      <td>joel-20091116-ehr.tgz</td>\n",
       "    </tr>\n",
       "    <tr>\n",
       "      <th>4511</th>\n",
       "      <td>2010-02-02 16:18:00</td>\n",
       "      <td>1.0M</td>\n",
       "      <td>joel-20091116-gpo.tgz</td>\n",
       "    </tr>\n",
       "  </tbody>\n",
       "</table>\n",
       "</div>"
      ],
      "text/plain": [
       "                     date  size               sub_link\n",
       "4507  2010-02-18 18:38:00  1.5M  joel-20091112-xuc.tgz\n",
       "4508  2010-02-18 22:28:00  970K  joel-20091112-zbl.tgz\n",
       "4509  2010-02-02 16:18:00  1.0M  joel-20091116-aqq.tgz\n",
       "4510  2010-02-02 16:18:00  930K  joel-20091116-ehr.tgz\n",
       "4511  2010-02-02 16:18:00  1.0M  joel-20091116-gpo.tgz"
      ]
     },
     "execution_count": 29,
     "metadata": {},
     "output_type": "execute_result"
    }
   ],
   "source": [
    "scraping_df_sliced.head()"
   ]
  },
  {
   "cell_type": "code",
   "execution_count": 30,
   "metadata": {
    "collapsed": false
   },
   "outputs": [
    {
     "name": "stdout",
     "output_type": "stream",
     "text": [
      "<class 'pandas.core.frame.DataFrame'>\n",
      "RangeIndex: 1737 entries, 4507 to 6243\n",
      "Data columns (total 3 columns):\n",
      "date        1737 non-null object\n",
      "size        1737 non-null object\n",
      "sub_link    1737 non-null object\n",
      "dtypes: object(3)\n",
      "memory usage: 40.8+ KB\n"
     ]
    }
   ],
   "source": [
    "scraping_df_sliced.info()"
   ]
  },
  {
   "cell_type": "code",
   "execution_count": 31,
   "metadata": {
    "collapsed": false
   },
   "outputs": [],
   "source": [
    "scraping_df_sliced .to_csv('/Users/kevenlemoing/Sites/sandvik_code_assignement/data/scraping_result_sliced.csv')"
   ]
  },
  {
   "cell_type": "code",
   "execution_count": null,
   "metadata": {
    "collapsed": true
   },
   "outputs": [],
   "source": []
  }
 ],
 "metadata": {
  "anaconda-cloud": {},
  "kernelspec": {
   "display_name": "Python [conda root]",
   "language": "python",
   "name": "conda-root-py"
  },
  "language_info": {
   "codemirror_mode": {
    "name": "ipython",
    "version": 2
   },
   "file_extension": ".py",
   "mimetype": "text/x-python",
   "name": "python",
   "nbconvert_exporter": "python",
   "pygments_lexer": "ipython2",
   "version": "2.7.13"
  }
 },
 "nbformat": 4,
 "nbformat_minor": 1
}
