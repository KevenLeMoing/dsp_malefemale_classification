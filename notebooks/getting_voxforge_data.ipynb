{
 "cells": [
  {
   "cell_type": "code",
   "execution_count": 1,
   "metadata": {
    "collapsed": false
   },
   "outputs": [],
   "source": [
    "#For web scraping\n",
    "from bs4 import BeautifulSoup\n",
    "import requests\n",
    "\n",
    "#For data\n",
    "import pandas as pd\n",
    "from pandas import Series,DataFrame"
   ]
  },
  {
   "cell_type": "code",
   "execution_count": 9,
   "metadata": {
    "collapsed": false
   },
   "outputs": [],
   "source": [
    "#url to read the html file\n",
    "url = 'http://www.repository.voxforge1.org/downloads/SpeechCorpus/Trunk/Audio/Main/16kHz_16bit/'\n",
    "\n",
    "# Request content from web page\n",
    "result = requests.get(url)\n",
    "c = result.content\n",
    "\n",
    "#We should split the content result into a list of two string elements \n",
    "#because tags <pre> were previously outside of html tags\n",
    "c2 = c.split(\"</html>\\n\")\n",
    "\n",
    "# Set as Beautiful Soup Object\n",
    "soup = BeautifulSoup(c2[1])\n",
    "\n",
    "#url to download (example)\n",
    "#http://www.repository.voxforge1.org/downloads/SpeechCorpus/Trunk/Audio/Main/16kHz_16bit/1028-20100710-hne.tgz"
   ]
  },
  {
   "cell_type": "markdown",
   "metadata": {},
   "source": [
    "**As it's displayed below, beautiful soup doesn't get \"pre\" tags without a split**"
   ]
  },
  {
   "cell_type": "code",
   "execution_count": 66,
   "metadata": {
    "collapsed": false
   },
   "outputs": [
    {
     "data": {
      "text/plain": [
       "<html><head><title>VoxForge Repository</title>\\n<style type=\"text/css\">\\n\\t.siteFunctions {\\n\\t\\ttext-align: right;\\n\\t}\\n\\t.copyright {\\n\\t\\ttest-align: left;\\n\\t\\tcolor: #2E3436;\\n\\t\\tfont-family: sans-serif;\\n                font-size: small;\\n\\t}\\n\\n\\tbody {\\n\\t\\tfont-family: \"DejaVu Sans\", \"Lucida Sans Unicode\", sans-serif;\\n\\t\\tfont-weight:\\tnormal;\\n\\t\\tword-spacing:\\tnormal;\\n\\t\\tletter-spacing:\\tnormal; \\n\\t\\ttext-transform:\\tnone;\\n\\t\\tfont-size: medium;\\n                text-align: justify;\\n\\t}\\n\\th2 {\\n\\t\\tfont-size:\\t1.5em;\\n\\t\\tfont-weight:\\t700;\\n\\t\\tmargin-top:1em;\\n\\t\\tmargin-bottom:0.8em;\\n\\t}\\n\\th3 {\\n\\t\\tfont-size:\\t1.1em;\\n\\t\\tfont-weight:\\t600;\\n\\t\\tmargin-top:1em;\\n\\t\\tmargin-bottom:0.4em;\\n\\t}\\n\\tp, ol, ul {\\n\\t\\tfont-size:\\t1em;\\n\\t\\tmargin-top:0.4em;\\n\\t\\tmargin-bottom:0.4em;\\n\\t}\\t\\n\\t.heading {\\n\\t\\tbackground-color: #555753;\\n                color: #D3D7CF;\\n\\t\\tfont-size: 40px;\\n\\t\\tvertical-align: bottom;\\n\\t}\\n\\t.logo {\\n\\t\\twidth: 100px; \\n\\t\\tfloat: left;\\n\\t\\ttext-align: left;\\n\\t}\\n\\t.logo img {\\n\\t\\tborder: 0px;\\n\\t}\\n\\timg {\\n\\t\\tborder: 0px;\\n\\t}\\n\\t.clickableicons {\\n\\t}\\n\\t.endFloat {\\n\\t\\tclear: both;\\n\\t\\n\\t}\\n\\t.padding {\\n\\t\\tpadding: 10px;\\n\\t}\\n\\t.bodyContent {\\n\\t\\tbackground-color: #ffffff;\\n\\t\\tcolor: #2E3436;\\n                text-align: justify;\\n\\t}\\n\\t.menu {\\n                color: #D3D7CF;\\n\\t\\tbackground-color: #555753;\\n\\t\\ttext-align: left;\\n\\t}\\n\\n\\t.menu2 {\\n                color: #D3D7CF;\\n\\t\\tbackground-color: #555753;\\n\\t\\ttext-align: center;\\n\\t\\t\\n\\t}\\n\\ta {\\n\\t\\tcolor: #f57900;\\n\\t\\ttext-decoration:none;\\n\\t}\\n\\ta:visited {\\n\\t\\tcolor: #ce5c00;\\n\\t}\\n\\ta:hover {\\n                text-decoration:underline;\\n\\t}\\n\\t.menu a {\\n\\t\\tcolor: #D3D7CF;\\n\\t\\tfont-weight: bold; \\n\\t}\\n\\t.menu a:hover {\\n\\t\\tcolor: #eeeeec;\\n\\t\\ttext-decoration:none;\\n\\t}\\n\\n\\t</style>\\n</head><body>\\n<div class=\"heading\">\\n<div class=\"padding\">\\n<div class=\"logo\"><a href=\"http://www.voxforge.org\"><img alt=\"VoxForge Repository\" src=\"http://www.voxforge.org/uploads/8k/N8/8kN884Cd96cmBZxRlzmbzQ/voxforge-logo.jpg\"/> </a></div>\\n<div class=\"endFloat\"></div>\\n</div>\\n</div>\\n<div class=\"menu\">\\n<div class=\"padding\">\\n<span class=\"horizontalMenu\">\\n<a class=\"horizontalMenu\" href=\"http://www.voxforge.org/home\">Home</a>\\n    \\xb7 \\n\\n<a class=\"horizontalMenu\" href=\"http://www.voxforge.org/home/read\">Read</a>\\n    \\xb7 \\n\\n<a class=\"horizontalMenu\" href=\"http://www.voxforge.org/home/listen\">Listen</a>\\n    \\xb7 \\n\\n<a class=\"horizontalMenu\" href=\"http://www.voxforge.org/home/forums\">Forums</a>\\n    \\xb7 \\n\\n<a class=\"horizontalMenu\" href=\"http://www.voxforge.org/home/dev\">Dev</a>\\n\\n    \\xb7 \\n\\n<a class=\"horizontalMenu\" href=\"http://www.voxforge.org/home/downloads\">Downloads</a>\\n    \\xb7 \\n\\n<a class=\"horizontalMenu\" href=\"http://www.voxforge.org/home/about\">About</a>\\n</span></div>\\n</div>\\n</body></html>\\n"
      ]
     },
     "execution_count": 66,
     "metadata": {},
     "output_type": "execute_result"
    }
   ],
   "source": [
    "BeautifulSoup(c)"
   ]
  },
  {
   "cell_type": "code",
   "execution_count": 112,
   "metadata": {
    "collapsed": false
   },
   "outputs": [
    {
     "name": "stdout",
     "output_type": "stream",
     "text": [
      "<type 'str'>\n",
      "<type 'str'>\n"
     ]
    }
   ],
   "source": [
    "#Check types to see if we are still aligned\n",
    "print (type(c))\n",
    "print type(c2[1])"
   ]
  },
  {
   "cell_type": "code",
   "execution_count": 10,
   "metadata": {
    "collapsed": false
   },
   "outputs": [
    {
     "name": "stdout",
     "output_type": "stream",
     "text": [
      "6244\n",
      "6244\n"
     ]
    }
   ],
   "source": [
    "#Extract both download links and informations about (date and size)\n",
    "\n",
    "sub_link = []\n",
    "information = []\n",
    "\n",
    "for link in soup.find_all('a'):\n",
    "    if '.tgz' in link.get('href'):\n",
    "        sub_link.append(link.get('href'))\n",
    "        information.append(link.next_sibling)   \n",
    "\n",
    "#Check if we have same amount of elements in both lists \n",
    "print(len(information))\n",
    "print len(sub_link)"
   ]
  },
  {
   "cell_type": "code",
   "execution_count": 11,
   "metadata": {
    "collapsed": false
   },
   "outputs": [
    {
     "name": "stdout",
     "output_type": "stream",
     "text": [
      "2016-05-01 13:05 \n",
      "1.7M\n"
     ]
    }
   ],
   "source": [
    "#Cleaning content of information list\n",
    "\n",
    "size = []\n",
    "\n",
    "for i in range (len(information)):\n",
    "    information[i] = \" \".join(information[i].split())\n",
    "    information[i] = str(information[i])\n",
    "    size.append(information[i][-4:])\n",
    "    information[i] = information[i][:-4]\n",
    "    \n",
    "print (information[5000])\n",
    "print (size[5000])"
   ]
  },
  {
   "cell_type": "code",
   "execution_count": 12,
   "metadata": {
    "collapsed": false
   },
   "outputs": [
    {
     "data": {
      "text/html": [
       "<div>\n",
       "<table border=\"1\" class=\"dataframe\">\n",
       "  <thead>\n",
       "    <tr style=\"text-align: right;\">\n",
       "      <th></th>\n",
       "      <th>date</th>\n",
       "      <th>size</th>\n",
       "      <th>sub_link</th>\n",
       "    </tr>\n",
       "  </thead>\n",
       "  <tbody>\n",
       "    <tr>\n",
       "      <th>0</th>\n",
       "      <td>2010-07-20 09:47:00</td>\n",
       "      <td>1.3M</td>\n",
       "      <td>1028-20100710-hne.tgz</td>\n",
       "    </tr>\n",
       "    <tr>\n",
       "      <th>1</th>\n",
       "      <td>2017-03-24 04:09:00</td>\n",
       "      <td>1.1M</td>\n",
       "      <td>1337ad-20170321-ajg.tgz</td>\n",
       "    </tr>\n",
       "    <tr>\n",
       "      <th>2</th>\n",
       "      <td>2017-03-24 04:09:00</td>\n",
       "      <td>1.1M</td>\n",
       "      <td>1337ad-20170321-tkg.tgz</td>\n",
       "    </tr>\n",
       "    <tr>\n",
       "      <th>3</th>\n",
       "      <td>2017-03-24 04:09:00</td>\n",
       "      <td>1.0M</td>\n",
       "      <td>1337ad-20170321-ynk.tgz</td>\n",
       "    </tr>\n",
       "    <tr>\n",
       "      <th>4</th>\n",
       "      <td>2012-05-11 04:52:00</td>\n",
       "      <td>1.5M</td>\n",
       "      <td>1snoke-20120412-hge.tgz</td>\n",
       "    </tr>\n",
       "  </tbody>\n",
       "</table>\n",
       "</div>"
      ],
      "text/plain": [
       "                 date  size                 sub_link\n",
       "0 2010-07-20 09:47:00  1.3M    1028-20100710-hne.tgz\n",
       "1 2017-03-24 04:09:00  1.1M  1337ad-20170321-ajg.tgz\n",
       "2 2017-03-24 04:09:00  1.1M  1337ad-20170321-tkg.tgz\n",
       "3 2017-03-24 04:09:00  1.0M  1337ad-20170321-ynk.tgz\n",
       "4 2012-05-11 04:52:00  1.5M  1snoke-20120412-hge.tgz"
      ]
     },
     "execution_count": 12,
     "metadata": {},
     "output_type": "execute_result"
    }
   ],
   "source": [
    "#Create a dataframe to analyze\n",
    "d = {'sub_link':sub_link,'date':information, 'size':size}\n",
    "\n",
    "scraping_df = pd.DataFrame(d)\n",
    "scraping_df['date'] = pd.to_datetime(scraping_df['date'])\n",
    "scraping_df.head()"
   ]
  },
  {
   "cell_type": "code",
   "execution_count": 6,
   "metadata": {
    "collapsed": false
   },
   "outputs": [
    {
     "name": "stdout",
     "output_type": "stream",
     "text": [
      "<class 'pandas.core.frame.DataFrame'>\n",
      "RangeIndex: 6244 entries, 0 to 6243\n",
      "Data columns (total 3 columns):\n",
      "date        6244 non-null datetime64[ns]\n",
      "size        6244 non-null object\n",
      "sub_link    6244 non-null object\n",
      "dtypes: datetime64[ns](1), object(2)\n",
      "memory usage: 146.4+ KB\n"
     ]
    }
   ],
   "source": [
    "scraping_df.info()"
   ]
  },
  {
   "cell_type": "code",
   "execution_count": 146,
   "metadata": {
    "collapsed": false
   },
   "outputs": [],
   "source": [
    "scraping_df.to_csv('/Users/kevenlemoing/Sites/sandvik_code_assignement/data/scraping_result.csv')"
   ]
  },
  {
   "cell_type": "code",
   "execution_count": 21,
   "metadata": {
    "collapsed": false
   },
   "outputs": [
    {
     "name": "stdout",
     "output_type": "stream",
     "text": [
      "<type 'float'>\n",
      "1.2\n"
     ]
    }
   ],
   "source": [
    "#In order to identify the max size\n",
    "size_list = []\n",
    "\n",
    "for i in range (len(scraping_df['size'])):\n",
    "    size_list.append(float(scraping_df['size'][i][:-1]))\n",
    "                     \n",
    "print(type(size_list[500]))\n",
    "print(size_list[500])"
   ]
  },
  {
   "cell_type": "code",
   "execution_count": 23,
   "metadata": {
    "collapsed": false
   },
   "outputs": [
    {
     "data": {
      "text/plain": [
       "973.0"
      ]
     },
     "execution_count": 23,
     "metadata": {},
     "output_type": "execute_result"
    }
   ],
   "source": [
    "#Max size of the file downloaded\n",
    "max(size_list)"
   ]
  },
  {
   "cell_type": "code",
   "execution_count": null,
   "metadata": {
    "collapsed": true
   },
   "outputs": [],
   "source": []
  }
 ],
 "metadata": {
  "anaconda-cloud": {},
  "kernelspec": {
   "display_name": "Python [conda root]",
   "language": "python",
   "name": "conda-root-py"
  },
  "language_info": {
   "codemirror_mode": {
    "name": "ipython",
    "version": 2
   },
   "file_extension": ".py",
   "mimetype": "text/x-python",
   "name": "python",
   "nbconvert_exporter": "python",
   "pygments_lexer": "ipython2",
   "version": "2.7.13"
  }
 },
 "nbformat": 4,
 "nbformat_minor": 1
}
