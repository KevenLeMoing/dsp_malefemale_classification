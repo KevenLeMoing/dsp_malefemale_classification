{
 "cells": [
  {
   "cell_type": "code",
   "execution_count": 132,
   "metadata": {
    "collapsed": false
   },
   "outputs": [],
   "source": [
    "#For web scraping\n",
    "from bs4 import BeautifulSoup\n",
    "import requests\n",
    "\n",
    "#For data\n",
    "import pandas as pd\n",
    "from pandas import Series,DataFrame"
   ]
  },
  {
   "cell_type": "code",
   "execution_count": 140,
   "metadata": {
    "collapsed": false
   },
   "outputs": [],
   "source": [
    "#url to read the html file\n",
    "url = 'http://www.repository.voxforge1.org/downloads/SpeechCorpus/Trunk/Audio/Main/16kHz_16bit/'\n",
    "\n",
    "# Request content from web page\n",
    "result = requests.get(url)\n",
    "c = result.content\n",
    "\n",
    "#We should split the content result into a list of two string elements \n",
    "#because tags <pre> were previously outside of html tags\n",
    "c2 = c.split(\"</html>\\n\")\n",
    "\n",
    "# Set as Beautiful Soup Object\n",
    "soup = BeautifulSoup(c2[1])\n",
    "\n",
    "#url to download (example)\n",
    "#http://www.repository.voxforge1.org/downloads/SpeechCorpus/Trunk/Audio/Main/16kHz_16bit/1028-20100710-hne.tgz"
   ]
  },
  {
   "cell_type": "markdown",
   "metadata": {},
   "source": [
    "**As it's displayed below, beautiful soup doesn't get \"pre\" tags without a split**"
   ]
  },
  {
   "cell_type": "code",
   "execution_count": 66,
   "metadata": {
    "collapsed": false
   },
   "outputs": [
    {
     "data": {
      "text/plain": [
       "<html><head><title>VoxForge Repository</title>\\n<style type=\"text/css\">\\n\\t.siteFunctions {\\n\\t\\ttext-align: right;\\n\\t}\\n\\t.copyright {\\n\\t\\ttest-align: left;\\n\\t\\tcolor: #2E3436;\\n\\t\\tfont-family: sans-serif;\\n                font-size: small;\\n\\t}\\n\\n\\tbody {\\n\\t\\tfont-family: \"DejaVu Sans\", \"Lucida Sans Unicode\", sans-serif;\\n\\t\\tfont-weight:\\tnormal;\\n\\t\\tword-spacing:\\tnormal;\\n\\t\\tletter-spacing:\\tnormal; \\n\\t\\ttext-transform:\\tnone;\\n\\t\\tfont-size: medium;\\n                text-align: justify;\\n\\t}\\n\\th2 {\\n\\t\\tfont-size:\\t1.5em;\\n\\t\\tfont-weight:\\t700;\\n\\t\\tmargin-top:1em;\\n\\t\\tmargin-bottom:0.8em;\\n\\t}\\n\\th3 {\\n\\t\\tfont-size:\\t1.1em;\\n\\t\\tfont-weight:\\t600;\\n\\t\\tmargin-top:1em;\\n\\t\\tmargin-bottom:0.4em;\\n\\t}\\n\\tp, ol, ul {\\n\\t\\tfont-size:\\t1em;\\n\\t\\tmargin-top:0.4em;\\n\\t\\tmargin-bottom:0.4em;\\n\\t}\\t\\n\\t.heading {\\n\\t\\tbackground-color: #555753;\\n                color: #D3D7CF;\\n\\t\\tfont-size: 40px;\\n\\t\\tvertical-align: bottom;\\n\\t}\\n\\t.logo {\\n\\t\\twidth: 100px; \\n\\t\\tfloat: left;\\n\\t\\ttext-align: left;\\n\\t}\\n\\t.logo img {\\n\\t\\tborder: 0px;\\n\\t}\\n\\timg {\\n\\t\\tborder: 0px;\\n\\t}\\n\\t.clickableicons {\\n\\t}\\n\\t.endFloat {\\n\\t\\tclear: both;\\n\\t\\n\\t}\\n\\t.padding {\\n\\t\\tpadding: 10px;\\n\\t}\\n\\t.bodyContent {\\n\\t\\tbackground-color: #ffffff;\\n\\t\\tcolor: #2E3436;\\n                text-align: justify;\\n\\t}\\n\\t.menu {\\n                color: #D3D7CF;\\n\\t\\tbackground-color: #555753;\\n\\t\\ttext-align: left;\\n\\t}\\n\\n\\t.menu2 {\\n                color: #D3D7CF;\\n\\t\\tbackground-color: #555753;\\n\\t\\ttext-align: center;\\n\\t\\t\\n\\t}\\n\\ta {\\n\\t\\tcolor: #f57900;\\n\\t\\ttext-decoration:none;\\n\\t}\\n\\ta:visited {\\n\\t\\tcolor: #ce5c00;\\n\\t}\\n\\ta:hover {\\n                text-decoration:underline;\\n\\t}\\n\\t.menu a {\\n\\t\\tcolor: #D3D7CF;\\n\\t\\tfont-weight: bold; \\n\\t}\\n\\t.menu a:hover {\\n\\t\\tcolor: #eeeeec;\\n\\t\\ttext-decoration:none;\\n\\t}\\n\\n\\t</style>\\n</head><body>\\n<div class=\"heading\">\\n<div class=\"padding\">\\n<div class=\"logo\"><a href=\"http://www.voxforge.org\"><img alt=\"VoxForge Repository\" src=\"http://www.voxforge.org/uploads/8k/N8/8kN884Cd96cmBZxRlzmbzQ/voxforge-logo.jpg\"/> </a></div>\\n<div class=\"endFloat\"></div>\\n</div>\\n</div>\\n<div class=\"menu\">\\n<div class=\"padding\">\\n<span class=\"horizontalMenu\">\\n<a class=\"horizontalMenu\" href=\"http://www.voxforge.org/home\">Home</a>\\n    \\xb7 \\n\\n<a class=\"horizontalMenu\" href=\"http://www.voxforge.org/home/read\">Read</a>\\n    \\xb7 \\n\\n<a class=\"horizontalMenu\" href=\"http://www.voxforge.org/home/listen\">Listen</a>\\n    \\xb7 \\n\\n<a class=\"horizontalMenu\" href=\"http://www.voxforge.org/home/forums\">Forums</a>\\n    \\xb7 \\n\\n<a class=\"horizontalMenu\" href=\"http://www.voxforge.org/home/dev\">Dev</a>\\n\\n    \\xb7 \\n\\n<a class=\"horizontalMenu\" href=\"http://www.voxforge.org/home/downloads\">Downloads</a>\\n    \\xb7 \\n\\n<a class=\"horizontalMenu\" href=\"http://www.voxforge.org/home/about\">About</a>\\n</span></div>\\n</div>\\n</body></html>\\n"
      ]
     },
     "execution_count": 66,
     "metadata": {},
     "output_type": "execute_result"
    }
   ],
   "source": [
    "BeautifulSoup(c)"
   ]
  },
  {
   "cell_type": "code",
   "execution_count": 112,
   "metadata": {
    "collapsed": false
   },
   "outputs": [
    {
     "name": "stdout",
     "output_type": "stream",
     "text": [
      "<type 'str'>\n",
      "<type 'str'>\n"
     ]
    }
   ],
   "source": [
    "#Check types to see if we are still aligned\n",
    "print (type(c))\n",
    "print type(c2[1])"
   ]
  },
  {
   "cell_type": "code",
   "execution_count": 141,
   "metadata": {
    "collapsed": false
   },
   "outputs": [
    {
     "name": "stdout",
     "output_type": "stream",
     "text": [
      "6244\n",
      "6244\n"
     ]
    }
   ],
   "source": [
    "#Extract both download links and informations about (date and size)\n",
    "\n",
    "sub_link = []\n",
    "information = []\n",
    "\n",
    "for link in soup.find_all('a'):\n",
    "    if '.tgz' in link.get('href'):\n",
    "        sub_link.append(link.get('href'))\n",
    "        information.append(link.next_sibling)   \n",
    "\n",
    "#Check if we have same amount of elements in both lists \n",
    "print(len(information))\n",
    "print len(sub_link)"
   ]
  },
  {
   "cell_type": "code",
   "execution_count": 142,
   "metadata": {
    "collapsed": false
   },
   "outputs": [
    {
     "name": "stdout",
     "output_type": "stream",
     "text": [
      "2016-05-01 13:05 \n",
      "1.7M\n"
     ]
    }
   ],
   "source": [
    "#Cleaning content of information list\n",
    "\n",
    "size = []\n",
    "\n",
    "for i in range (len(information)):\n",
    "    information[i] = \" \".join(information[i].split())\n",
    "    information[i] = str(information[i])\n",
    "    size.append(information[i][-4:])\n",
    "    information[i] = information[i][:-4]\n",
    "    \n",
    "print (information[5000])\n",
    "print (size[5000])"
   ]
  },
  {
   "cell_type": "code",
   "execution_count": 143,
   "metadata": {
    "collapsed": false
   },
   "outputs": [
    {
     "data": {
      "text/html": [
       "<div>\n",
       "<table border=\"1\" class=\"dataframe\">\n",
       "  <thead>\n",
       "    <tr style=\"text-align: right;\">\n",
       "      <th></th>\n",
       "      <th>date</th>\n",
       "      <th>size</th>\n",
       "      <th>sub_link</th>\n",
       "    </tr>\n",
       "  </thead>\n",
       "  <tbody>\n",
       "    <tr>\n",
       "      <th>0</th>\n",
       "      <td>2010-07-20 09:47:00</td>\n",
       "      <td>1.3M</td>\n",
       "      <td>1028-20100710-hne.tgz</td>\n",
       "    </tr>\n",
       "    <tr>\n",
       "      <th>1</th>\n",
       "      <td>2017-03-24 04:09:00</td>\n",
       "      <td>1.1M</td>\n",
       "      <td>1337ad-20170321-ajg.tgz</td>\n",
       "    </tr>\n",
       "    <tr>\n",
       "      <th>2</th>\n",
       "      <td>2017-03-24 04:09:00</td>\n",
       "      <td>1.1M</td>\n",
       "      <td>1337ad-20170321-tkg.tgz</td>\n",
       "    </tr>\n",
       "    <tr>\n",
       "      <th>3</th>\n",
       "      <td>2017-03-24 04:09:00</td>\n",
       "      <td>1.0M</td>\n",
       "      <td>1337ad-20170321-ynk.tgz</td>\n",
       "    </tr>\n",
       "    <tr>\n",
       "      <th>4</th>\n",
       "      <td>2012-05-11 04:52:00</td>\n",
       "      <td>1.5M</td>\n",
       "      <td>1snoke-20120412-hge.tgz</td>\n",
       "    </tr>\n",
       "  </tbody>\n",
       "</table>\n",
       "</div>"
      ],
      "text/plain": [
       "                 date  size                 sub_link\n",
       "0 2010-07-20 09:47:00  1.3M    1028-20100710-hne.tgz\n",
       "1 2017-03-24 04:09:00  1.1M  1337ad-20170321-ajg.tgz\n",
       "2 2017-03-24 04:09:00  1.1M  1337ad-20170321-tkg.tgz\n",
       "3 2017-03-24 04:09:00  1.0M  1337ad-20170321-ynk.tgz\n",
       "4 2012-05-11 04:52:00  1.5M  1snoke-20120412-hge.tgz"
      ]
     },
     "execution_count": 143,
     "metadata": {},
     "output_type": "execute_result"
    }
   ],
   "source": [
    "#Create a dataframe to analyze\n",
    "d = {'sub_link':sub_link,'date':information, 'size':size}\n",
    "\n",
    "scraping_df = pd.DataFrame(d)\n",
    "scraping_df['date'] = pd.to_datetime(scraping_df['date'])\n",
    "scraping_df.head()"
   ]
  },
  {
   "cell_type": "code",
   "execution_count": 144,
   "metadata": {
    "collapsed": false
   },
   "outputs": [
    {
     "name": "stdout",
     "output_type": "stream",
     "text": [
      "<class 'pandas.core.frame.DataFrame'>\n",
      "RangeIndex: 6244 entries, 0 to 6243\n",
      "Data columns (total 3 columns):\n",
      "date        6244 non-null datetime64[ns]\n",
      "size        6244 non-null object\n",
      "sub_link    6244 non-null object\n",
      "dtypes: datetime64[ns](1), object(2)\n",
      "memory usage: 146.4+ KB\n"
     ]
    }
   ],
   "source": [
    "scraping_df.info()"
   ]
  },
  {
   "cell_type": "code",
   "execution_count": 146,
   "metadata": {
    "collapsed": false
   },
   "outputs": [],
   "source": [
    "scraping_df.to_csv('/Users/kevenlemoing/Sites/sandvik_code_assignement/data/scraping_result.csv')"
   ]
  },
  {
   "cell_type": "code",
   "execution_count": null,
   "metadata": {
    "collapsed": false
   },
   "outputs": [
    {
     "name": "stderr",
     "output_type": "stream",
     "text": [
      "/Users/kevenlemoing/anaconda/lib/python2.7/site-packages/ipykernel/__main__.py:3: SettingWithCopyWarning: \n",
      "A value is trying to be set on a copy of a slice from a DataFrame\n",
      "\n",
      "See the caveats in the documentation: http://pandas.pydata.org/pandas-docs/stable/indexing.html#indexing-view-versus-copy\n",
      "  app.launch_new_instance()\n"
     ]
    }
   ],
   "source": [
    "\n",
    "for i in range (len(scraping_df['size'])):\n",
    "    scraping_df['size'][i] = scraping_df['size'][i][:-1]\n",
    "scraping_df['size'][1]"
   ]
  },
  {
   "cell_type": "code",
   "execution_count": 148,
   "metadata": {
    "collapsed": false
   },
   "outputs": [
    {
     "ename": "ValueError",
     "evalue": "invalid literal for long() with base 10: '1.3M'",
     "output_type": "error",
     "traceback": [
      "\u001b[0;31m---------------------------------------------------------------------------\u001b[0m",
      "\u001b[0;31mValueError\u001b[0m                                Traceback (most recent call last)",
      "\u001b[0;32m<ipython-input-148-13330110c4ef>\u001b[0m in \u001b[0;36m<module>\u001b[0;34m()\u001b[0m\n\u001b[1;32m      1\u001b[0m \u001b[0mscraping_df\u001b[0m\u001b[0;34m[\u001b[0m\u001b[0;34m'size'\u001b[0m\u001b[0;34m]\u001b[0m \u001b[0;34m=\u001b[0m \u001b[0mscraping_df\u001b[0m\u001b[0;34m[\u001b[0m\u001b[0;34m'size'\u001b[0m\u001b[0;34m]\u001b[0m\u001b[0;34m[\u001b[0m\u001b[0;34m:\u001b[0m\u001b[0;34m-\u001b[0m\u001b[0;36m1\u001b[0m\u001b[0;34m]\u001b[0m\u001b[0;34m\u001b[0m\u001b[0m\n\u001b[0;32m----> 2\u001b[0;31m \u001b[0mscraping_df\u001b[0m\u001b[0;34m[\u001b[0m\u001b[0;34m'size'\u001b[0m\u001b[0;34m]\u001b[0m \u001b[0;34m=\u001b[0m \u001b[0mscraping_df\u001b[0m\u001b[0;34m[\u001b[0m\u001b[0;34m'size'\u001b[0m\u001b[0;34m]\u001b[0m\u001b[0;34m.\u001b[0m\u001b[0mastype\u001b[0m\u001b[0;34m(\u001b[0m\u001b[0mint\u001b[0m\u001b[0;34m)\u001b[0m\u001b[0;34m\u001b[0m\u001b[0m\n\u001b[0m",
      "\u001b[0;32m/Users/kevenlemoing/anaconda/lib/python2.7/site-packages/pandas/core/generic.pyc\u001b[0m in \u001b[0;36mastype\u001b[0;34m(self, dtype, copy, raise_on_error, **kwargs)\u001b[0m\n\u001b[1;32m   2948\u001b[0m \u001b[0;34m\u001b[0m\u001b[0m\n\u001b[1;32m   2949\u001b[0m         mgr = self._data.astype(dtype=dtype, copy=copy,\n\u001b[0;32m-> 2950\u001b[0;31m                                 raise_on_error=raise_on_error, **kwargs)\n\u001b[0m\u001b[1;32m   2951\u001b[0m         \u001b[0;32mreturn\u001b[0m \u001b[0mself\u001b[0m\u001b[0;34m.\u001b[0m\u001b[0m_constructor\u001b[0m\u001b[0;34m(\u001b[0m\u001b[0mmgr\u001b[0m\u001b[0;34m)\u001b[0m\u001b[0;34m.\u001b[0m\u001b[0m__finalize__\u001b[0m\u001b[0;34m(\u001b[0m\u001b[0mself\u001b[0m\u001b[0;34m)\u001b[0m\u001b[0;34m\u001b[0m\u001b[0m\n\u001b[1;32m   2952\u001b[0m \u001b[0;34m\u001b[0m\u001b[0m\n",
      "\u001b[0;32m/Users/kevenlemoing/anaconda/lib/python2.7/site-packages/pandas/core/internals.pyc\u001b[0m in \u001b[0;36mastype\u001b[0;34m(self, dtype, **kwargs)\u001b[0m\n\u001b[1;32m   2936\u001b[0m \u001b[0;34m\u001b[0m\u001b[0m\n\u001b[1;32m   2937\u001b[0m     \u001b[0;32mdef\u001b[0m \u001b[0mastype\u001b[0m\u001b[0;34m(\u001b[0m\u001b[0mself\u001b[0m\u001b[0;34m,\u001b[0m \u001b[0mdtype\u001b[0m\u001b[0;34m,\u001b[0m \u001b[0;34m**\u001b[0m\u001b[0mkwargs\u001b[0m\u001b[0;34m)\u001b[0m\u001b[0;34m:\u001b[0m\u001b[0;34m\u001b[0m\u001b[0m\n\u001b[0;32m-> 2938\u001b[0;31m         \u001b[0;32mreturn\u001b[0m \u001b[0mself\u001b[0m\u001b[0;34m.\u001b[0m\u001b[0mapply\u001b[0m\u001b[0;34m(\u001b[0m\u001b[0;34m'astype'\u001b[0m\u001b[0;34m,\u001b[0m \u001b[0mdtype\u001b[0m\u001b[0;34m=\u001b[0m\u001b[0mdtype\u001b[0m\u001b[0;34m,\u001b[0m \u001b[0;34m**\u001b[0m\u001b[0mkwargs\u001b[0m\u001b[0;34m)\u001b[0m\u001b[0;34m\u001b[0m\u001b[0m\n\u001b[0m\u001b[1;32m   2939\u001b[0m \u001b[0;34m\u001b[0m\u001b[0m\n\u001b[1;32m   2940\u001b[0m     \u001b[0;32mdef\u001b[0m \u001b[0mconvert\u001b[0m\u001b[0;34m(\u001b[0m\u001b[0mself\u001b[0m\u001b[0;34m,\u001b[0m \u001b[0;34m**\u001b[0m\u001b[0mkwargs\u001b[0m\u001b[0;34m)\u001b[0m\u001b[0;34m:\u001b[0m\u001b[0;34m\u001b[0m\u001b[0m\n",
      "\u001b[0;32m/Users/kevenlemoing/anaconda/lib/python2.7/site-packages/pandas/core/internals.pyc\u001b[0m in \u001b[0;36mapply\u001b[0;34m(self, f, axes, filter, do_integrity_check, consolidate, raw, **kwargs)\u001b[0m\n\u001b[1;32m   2888\u001b[0m \u001b[0;34m\u001b[0m\u001b[0m\n\u001b[1;32m   2889\u001b[0m             \u001b[0mkwargs\u001b[0m\u001b[0;34m[\u001b[0m\u001b[0;34m'mgr'\u001b[0m\u001b[0;34m]\u001b[0m \u001b[0;34m=\u001b[0m \u001b[0mself\u001b[0m\u001b[0;34m\u001b[0m\u001b[0m\n\u001b[0;32m-> 2890\u001b[0;31m             \u001b[0mapplied\u001b[0m \u001b[0;34m=\u001b[0m \u001b[0mgetattr\u001b[0m\u001b[0;34m(\u001b[0m\u001b[0mb\u001b[0m\u001b[0;34m,\u001b[0m \u001b[0mf\u001b[0m\u001b[0;34m)\u001b[0m\u001b[0;34m(\u001b[0m\u001b[0;34m**\u001b[0m\u001b[0mkwargs\u001b[0m\u001b[0;34m)\u001b[0m\u001b[0;34m\u001b[0m\u001b[0m\n\u001b[0m\u001b[1;32m   2891\u001b[0m             \u001b[0mresult_blocks\u001b[0m \u001b[0;34m=\u001b[0m \u001b[0m_extend_blocks\u001b[0m\u001b[0;34m(\u001b[0m\u001b[0mapplied\u001b[0m\u001b[0;34m,\u001b[0m \u001b[0mresult_blocks\u001b[0m\u001b[0;34m)\u001b[0m\u001b[0;34m\u001b[0m\u001b[0m\n\u001b[1;32m   2892\u001b[0m \u001b[0;34m\u001b[0m\u001b[0m\n",
      "\u001b[0;32m/Users/kevenlemoing/anaconda/lib/python2.7/site-packages/pandas/core/internals.pyc\u001b[0m in \u001b[0;36mastype\u001b[0;34m(self, dtype, copy, raise_on_error, values, **kwargs)\u001b[0m\n\u001b[1;32m    432\u001b[0m                **kwargs):\n\u001b[1;32m    433\u001b[0m         return self._astype(dtype, copy=copy, raise_on_error=raise_on_error,\n\u001b[0;32m--> 434\u001b[0;31m                             values=values, **kwargs)\n\u001b[0m\u001b[1;32m    435\u001b[0m \u001b[0;34m\u001b[0m\u001b[0m\n\u001b[1;32m    436\u001b[0m     def _astype(self, dtype, copy=False, raise_on_error=True, values=None,\n",
      "\u001b[0;32m/Users/kevenlemoing/anaconda/lib/python2.7/site-packages/pandas/core/internals.pyc\u001b[0m in \u001b[0;36m_astype\u001b[0;34m(self, dtype, copy, raise_on_error, values, klass, mgr, **kwargs)\u001b[0m\n\u001b[1;32m    475\u001b[0m \u001b[0;34m\u001b[0m\u001b[0m\n\u001b[1;32m    476\u001b[0m                 \u001b[0;31m# _astype_nansafe works fine with 1-d only\u001b[0m\u001b[0;34m\u001b[0m\u001b[0;34m\u001b[0m\u001b[0m\n\u001b[0;32m--> 477\u001b[0;31m                 \u001b[0mvalues\u001b[0m \u001b[0;34m=\u001b[0m \u001b[0mcom\u001b[0m\u001b[0;34m.\u001b[0m\u001b[0m_astype_nansafe\u001b[0m\u001b[0;34m(\u001b[0m\u001b[0mvalues\u001b[0m\u001b[0;34m.\u001b[0m\u001b[0mravel\u001b[0m\u001b[0;34m(\u001b[0m\u001b[0;34m)\u001b[0m\u001b[0;34m,\u001b[0m \u001b[0mdtype\u001b[0m\u001b[0;34m,\u001b[0m \u001b[0mcopy\u001b[0m\u001b[0;34m=\u001b[0m\u001b[0mTrue\u001b[0m\u001b[0;34m)\u001b[0m\u001b[0;34m\u001b[0m\u001b[0m\n\u001b[0m\u001b[1;32m    478\u001b[0m                 \u001b[0mvalues\u001b[0m \u001b[0;34m=\u001b[0m \u001b[0mvalues\u001b[0m\u001b[0;34m.\u001b[0m\u001b[0mreshape\u001b[0m\u001b[0;34m(\u001b[0m\u001b[0mself\u001b[0m\u001b[0;34m.\u001b[0m\u001b[0mshape\u001b[0m\u001b[0;34m)\u001b[0m\u001b[0;34m\u001b[0m\u001b[0m\n\u001b[1;32m    479\u001b[0m \u001b[0;34m\u001b[0m\u001b[0m\n",
      "\u001b[0;32m/Users/kevenlemoing/anaconda/lib/python2.7/site-packages/pandas/core/common.pyc\u001b[0m in \u001b[0;36m_astype_nansafe\u001b[0;34m(arr, dtype, copy)\u001b[0m\n\u001b[1;32m   1915\u001b[0m     \u001b[0;32melif\u001b[0m \u001b[0marr\u001b[0m\u001b[0;34m.\u001b[0m\u001b[0mdtype\u001b[0m \u001b[0;34m==\u001b[0m \u001b[0mnp\u001b[0m\u001b[0;34m.\u001b[0m\u001b[0mobject_\u001b[0m \u001b[0;32mand\u001b[0m \u001b[0mnp\u001b[0m\u001b[0;34m.\u001b[0m\u001b[0missubdtype\u001b[0m\u001b[0;34m(\u001b[0m\u001b[0mdtype\u001b[0m\u001b[0;34m.\u001b[0m\u001b[0mtype\u001b[0m\u001b[0;34m,\u001b[0m \u001b[0mnp\u001b[0m\u001b[0;34m.\u001b[0m\u001b[0minteger\u001b[0m\u001b[0;34m)\u001b[0m\u001b[0;34m:\u001b[0m\u001b[0;34m\u001b[0m\u001b[0m\n\u001b[1;32m   1916\u001b[0m         \u001b[0;31m# work around NumPy brokenness, #1987\u001b[0m\u001b[0;34m\u001b[0m\u001b[0;34m\u001b[0m\u001b[0m\n\u001b[0;32m-> 1917\u001b[0;31m         \u001b[0;32mreturn\u001b[0m \u001b[0mlib\u001b[0m\u001b[0;34m.\u001b[0m\u001b[0mastype_intsafe\u001b[0m\u001b[0;34m(\u001b[0m\u001b[0marr\u001b[0m\u001b[0;34m.\u001b[0m\u001b[0mravel\u001b[0m\u001b[0;34m(\u001b[0m\u001b[0;34m)\u001b[0m\u001b[0;34m,\u001b[0m \u001b[0mdtype\u001b[0m\u001b[0;34m)\u001b[0m\u001b[0;34m.\u001b[0m\u001b[0mreshape\u001b[0m\u001b[0;34m(\u001b[0m\u001b[0marr\u001b[0m\u001b[0;34m.\u001b[0m\u001b[0mshape\u001b[0m\u001b[0;34m)\u001b[0m\u001b[0;34m\u001b[0m\u001b[0m\n\u001b[0m\u001b[1;32m   1918\u001b[0m \u001b[0;34m\u001b[0m\u001b[0m\n\u001b[1;32m   1919\u001b[0m     \u001b[0;32mif\u001b[0m \u001b[0mcopy\u001b[0m\u001b[0;34m:\u001b[0m\u001b[0;34m\u001b[0m\u001b[0m\n",
      "\u001b[0;32mpandas/lib.pyx\u001b[0m in \u001b[0;36mpandas.lib.astype_intsafe (pandas/lib.c:16667)\u001b[0;34m()\u001b[0m\n",
      "\u001b[0;32mpandas/src/util.pxd\u001b[0m in \u001b[0;36mutil.set_value_at (pandas/lib.c:67540)\u001b[0;34m()\u001b[0m\n",
      "\u001b[0;31mValueError\u001b[0m: invalid literal for long() with base 10: '1.3M'"
     ]
    }
   ],
   "source": [
    "scraping_df['size'] = scraping_df['size'][:-1]\n",
    "\n",
    "scraping_df['size'] = scraping_df['size'].astype(int)"
   ]
  },
  {
   "cell_type": "code",
   "execution_count": null,
   "metadata": {
    "collapsed": true
   },
   "outputs": [],
   "source": []
  }
 ],
 "metadata": {
  "anaconda-cloud": {},
  "kernelspec": {
   "display_name": "Python [conda root]",
   "language": "python",
   "name": "conda-root-py"
  },
  "language_info": {
   "codemirror_mode": {
    "name": "ipython",
    "version": 2
   },
   "file_extension": ".py",
   "mimetype": "text/x-python",
   "name": "python",
   "nbconvert_exporter": "python",
   "pygments_lexer": "ipython2",
   "version": "2.7.13"
  }
 },
 "nbformat": 4,
 "nbformat_minor": 1
}
