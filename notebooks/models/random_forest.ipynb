{
 "cells": [
  {
   "cell_type": "code",
   "execution_count": 8,
   "metadata": {
    "collapsed": false
   },
   "outputs": [],
   "source": [
    "import pandas as pd\n",
    "import numpy as np\n",
    "import time\n",
    "from sklearn.pipeline import Pipeline\n",
    "from sklearn.ensemble import RandomForestClassifier\n",
    "\n",
    "from sklearn import cross_validation\n",
    "from sklearn.cross_validation import KFold\n",
    "from sklearn.cross_validation import LeaveOneOut\n",
    "\n",
    "from sklearn.model_selection import train_test_split\n",
    "from sklearn.naive_bayes import GaussianNB\n",
    "from sklearn.metrics import accuracy_score\n",
    "\n",
    "from sklearn.ensemble import RandomForestClassifier"
   ]
  },
  {
   "cell_type": "code",
   "execution_count": 9,
   "metadata": {
    "collapsed": false
   },
   "outputs": [
    {
     "data": {
      "text/html": [
       "<div>\n",
       "<table border=\"1\" class=\"dataframe\">\n",
       "  <thead>\n",
       "    <tr style=\"text-align: right;\">\n",
       "      <th></th>\n",
       "      <th>folder</th>\n",
       "      <th>record_name</th>\n",
       "      <th>mean_frequency</th>\n",
       "      <th>standard_deviation</th>\n",
       "      <th>median_frequency</th>\n",
       "      <th>first_quantile</th>\n",
       "      <th>third_quantile</th>\n",
       "      <th>inter_quantile_range</th>\n",
       "      <th>kurtosis</th>\n",
       "      <th>skewness</th>\n",
       "      <th>speaker_name</th>\n",
       "      <th>speaker_gender</th>\n",
       "      <th>speaker_age_range</th>\n",
       "      <th>speaker_language</th>\n",
       "      <th>speaker_dialect</th>\n",
       "      <th>sampling_rate</th>\n",
       "      <th>sample_rate_format</th>\n",
       "    </tr>\n",
       "  </thead>\n",
       "  <tbody>\n",
       "    <tr>\n",
       "      <th>0</th>\n",
       "      <td>1028-20100710-hne</td>\n",
       "      <td>rp-29</td>\n",
       "      <td>368.604505</td>\n",
       "      <td>140.704429</td>\n",
       "      <td>368.604505</td>\n",
       "      <td>289.010060</td>\n",
       "      <td>328.807282</td>\n",
       "      <td>99.493056</td>\n",
       "      <td>-2.0</td>\n",
       "      <td>0.000000e+00</td>\n",
       "      <td>1028</td>\n",
       "      <td>Male</td>\n",
       "      <td>Adult</td>\n",
       "      <td>EN</td>\n",
       "      <td>American English</td>\n",
       "      <td>48000\\n</td>\n",
       "      <td>16\\n</td>\n",
       "    </tr>\n",
       "    <tr>\n",
       "      <th>1</th>\n",
       "      <td>1028-20100710-hne</td>\n",
       "      <td>rp-30</td>\n",
       "      <td>294.958360</td>\n",
       "      <td>119.206456</td>\n",
       "      <td>294.958360</td>\n",
       "      <td>227.525005</td>\n",
       "      <td>261.241683</td>\n",
       "      <td>84.291694</td>\n",
       "      <td>-2.0</td>\n",
       "      <td>4.859547e-16</td>\n",
       "      <td>1028</td>\n",
       "      <td>Male</td>\n",
       "      <td>Adult</td>\n",
       "      <td>EN</td>\n",
       "      <td>American English</td>\n",
       "      <td>48000\\n</td>\n",
       "      <td>16\\n</td>\n",
       "    </tr>\n",
       "    <tr>\n",
       "      <th>2</th>\n",
       "      <td>1028-20100710-hne</td>\n",
       "      <td>rp-31</td>\n",
       "      <td>337.401379</td>\n",
       "      <td>70.014478</td>\n",
       "      <td>337.401379</td>\n",
       "      <td>297.795209</td>\n",
       "      <td>317.598294</td>\n",
       "      <td>49.507712</td>\n",
       "      <td>-2.0</td>\n",
       "      <td>0.000000e+00</td>\n",
       "      <td>1028</td>\n",
       "      <td>Male</td>\n",
       "      <td>Adult</td>\n",
       "      <td>EN</td>\n",
       "      <td>American English</td>\n",
       "      <td>48000\\n</td>\n",
       "      <td>16\\n</td>\n",
       "    </tr>\n",
       "    <tr>\n",
       "      <th>3</th>\n",
       "      <td>1028-20100710-hne</td>\n",
       "      <td>ar-01</td>\n",
       "      <td>347.713169</td>\n",
       "      <td>136.622691</td>\n",
       "      <td>347.713169</td>\n",
       "      <td>270.427704</td>\n",
       "      <td>309.070436</td>\n",
       "      <td>96.606831</td>\n",
       "      <td>-2.0</td>\n",
       "      <td>0.000000e+00</td>\n",
       "      <td>1028</td>\n",
       "      <td>Male</td>\n",
       "      <td>Adult</td>\n",
       "      <td>EN</td>\n",
       "      <td>American English</td>\n",
       "      <td>48000\\n</td>\n",
       "      <td>16\\n</td>\n",
       "    </tr>\n",
       "    <tr>\n",
       "      <th>4</th>\n",
       "      <td>1028-20100710-hne</td>\n",
       "      <td>ar-02</td>\n",
       "      <td>372.315279</td>\n",
       "      <td>156.235835</td>\n",
       "      <td>372.315279</td>\n",
       "      <td>283.934944</td>\n",
       "      <td>328.125112</td>\n",
       "      <td>110.475419</td>\n",
       "      <td>-2.0</td>\n",
       "      <td>0.000000e+00</td>\n",
       "      <td>1028</td>\n",
       "      <td>Male</td>\n",
       "      <td>Adult</td>\n",
       "      <td>EN</td>\n",
       "      <td>American English</td>\n",
       "      <td>48000\\n</td>\n",
       "      <td>16\\n</td>\n",
       "    </tr>\n",
       "  </tbody>\n",
       "</table>\n",
       "</div>"
      ],
      "text/plain": [
       "              folder record_name  mean_frequency  standard_deviation  \\\n",
       "0  1028-20100710-hne       rp-29      368.604505          140.704429   \n",
       "1  1028-20100710-hne       rp-30      294.958360          119.206456   \n",
       "2  1028-20100710-hne       rp-31      337.401379           70.014478   \n",
       "3  1028-20100710-hne       ar-01      347.713169          136.622691   \n",
       "4  1028-20100710-hne       ar-02      372.315279          156.235835   \n",
       "\n",
       "   median_frequency  first_quantile  third_quantile  inter_quantile_range  \\\n",
       "0        368.604505      289.010060      328.807282             99.493056   \n",
       "1        294.958360      227.525005      261.241683             84.291694   \n",
       "2        337.401379      297.795209      317.598294             49.507712   \n",
       "3        347.713169      270.427704      309.070436             96.606831   \n",
       "4        372.315279      283.934944      328.125112            110.475419   \n",
       "\n",
       "   kurtosis      skewness speaker_name speaker_gender speaker_age_range  \\\n",
       "0      -2.0  0.000000e+00         1028           Male             Adult   \n",
       "1      -2.0  4.859547e-16         1028           Male             Adult   \n",
       "2      -2.0  0.000000e+00         1028           Male             Adult   \n",
       "3      -2.0  0.000000e+00         1028           Male             Adult   \n",
       "4      -2.0  0.000000e+00         1028           Male             Adult   \n",
       "\n",
       "  speaker_language   speaker_dialect sampling_rate sample_rate_format  \n",
       "0               EN  American English       48000\\n               16\\n  \n",
       "1               EN  American English       48000\\n               16\\n  \n",
       "2               EN  American English       48000\\n               16\\n  \n",
       "3               EN  American English       48000\\n               16\\n  \n",
       "4               EN  American English       48000\\n               16\\n  "
      ]
     },
     "execution_count": 9,
     "metadata": {},
     "output_type": "execute_result"
    }
   ],
   "source": [
    "#Load data\n",
    "df = pd.read_csv('/Users/kevenlemoing/Sites/sandvik_code_assignement/data/indicators.csv',error_bad_lines=False)\n",
    "df.head()"
   ]
  },
  {
   "cell_type": "markdown",
   "metadata": {},
   "source": [
    "### Predictions considering all of audio features "
   ]
  },
  {
   "cell_type": "code",
   "execution_count": 10,
   "metadata": {
    "collapsed": false
   },
   "outputs": [
    {
     "name": "stdout",
     "output_type": "stream",
     "text": [
      "['Male', 'Female']\n",
      "('Class label = ', 'Male')\n",
      "['mean_frequency', 'standard_deviation', 'median_frequency', 'first_quantile', 'third_quantile', 'inter_quantile_range', 'kurtosis', 'skewness']\n",
      "[ 368.60450482  140.70442937  368.60450482  289.0100599   328.80728236\n",
      "   99.49305615   -2.            0.        ]\n",
      "['Male' 'Male' 'Male' ..., 'Male' '[female];' 'Male']\n",
      "0.636064257028\n",
      "\n",
      "--- 1.8435959816 seconds ---\n",
      "\n"
     ]
    }
   ],
   "source": [
    "start_time = time.time()\n",
    "\n",
    "#Data organization\n",
    "label_names = ['Male','Female']\n",
    "labels = df['speaker_gender']\n",
    "feature_names = ['mean_frequency','standard_deviation','median_frequency','first_quantile','third_quantile',\n",
    "                 'inter_quantile_range','kurtosis','skewness']\n",
    "features = df[['mean_frequency','standard_deviation','median_frequency','first_quantile','third_quantile',\n",
    "            'inter_quantile_range','kurtosis','skewness']].values    \n",
    "\n",
    "print(label_names)\n",
    "print('Class label = ', labels[0])\n",
    "print(feature_names)\n",
    "print(features[0])\n",
    "\n",
    "# Split our data\n",
    "train, test, train_labels, test_labels = train_test_split(features,\n",
    "                                                          labels,\n",
    "                                                          test_size=0.33,\n",
    "                                                          random_state=42)\n",
    "# Initialize our classifier\n",
    "rfc = RandomForestClassifier()\n",
    "\n",
    "# Train our classifier\n",
    "model = rfc.fit(train, train_labels)\n",
    "\n",
    "# Make predictions\n",
    "preds = rfc.predict(test)\n",
    "print(preds)\n",
    "\n",
    "# Evaluate accuracy\n",
    "print(accuracy_score(test_labels, preds))\n",
    "\n",
    "print(\"\")\n",
    "print(\"--- %s seconds ---\" % (time.time() - start_time))\n",
    "print(\"\")"
   ]
  },
  {
   "cell_type": "markdown",
   "metadata": {},
   "source": [
    "### Predictions just considering standard deviation and inter quantile range"
   ]
  },
  {
   "cell_type": "code",
   "execution_count": 11,
   "metadata": {
    "collapsed": false
   },
   "outputs": [
    {
     "name": "stdout",
     "output_type": "stream",
     "text": [
      "['Male', 'Female']\n",
      "('Class label = ', 'Male')\n",
      "['standard_deviation', 'inter_quantile_range', 'first_quantile']\n",
      "[ 140.70442937   99.49305615  289.0100599 ]\n",
      "['Male' 'Male' 'Male' ..., 'Female' 'Male' 'Male']\n",
      "0.640803212851\n",
      "\n",
      "--- 1.33476400375 seconds ---\n",
      "\n"
     ]
    }
   ],
   "source": [
    "start_time = time.time()\n",
    "\n",
    "#Data organization\n",
    "label_names = ['Male','Female']\n",
    "labels = df['speaker_gender']\n",
    "feature_names = ['standard_deviation','inter_quantile_range','first_quantile']\n",
    "features = df[['standard_deviation','inter_quantile_range','first_quantile']].values    \n",
    "\n",
    "print(label_names)\n",
    "print('Class label = ', labels[0])\n",
    "print(feature_names)\n",
    "print(features[0])\n",
    "\n",
    "# Split our data\n",
    "train, test, train_labels, test_labels = train_test_split(features,\n",
    "                                                          labels,\n",
    "                                                          test_size=0.33,\n",
    "                                                          random_state=42)\n",
    "# Initialize our classifier\n",
    "clf_rfc = RandomForestClassifier()\n",
    "\n",
    "# Train our classifier\n",
    "model = clf_rfc.fit(train, train_labels)\n",
    "\n",
    "# Make predictions\n",
    "preds = clf_rfc.predict(test)\n",
    "print(preds)\n",
    "\n",
    "# Evaluate accuracy\n",
    "print(accuracy_score(test_labels, preds))\n",
    "\n",
    "print(\"\")\n",
    "print(\"--- %s seconds ---\" % (time.time() - start_time))\n",
    "print(\"\")"
   ]
  },
  {
   "cell_type": "markdown",
   "metadata": {
    "collapsed": true
   },
   "source": [
    "### Predictions with clustered data (Adult, EN, American english)"
   ]
  },
  {
   "cell_type": "code",
   "execution_count": 12,
   "metadata": {
    "collapsed": false
   },
   "outputs": [
    {
     "name": "stdout",
     "output_type": "stream",
     "text": [
      "['Male', 'Female']\n",
      "('Class label = ', 'Male')\n",
      "['standard_deviation', 'inter_quantile_range', 'first_quantile']\n",
      "[ 140.70442937   99.49305615  289.0100599 ]\n",
      "['Male' 'Male' 'Male' ..., 'Male' 'Male' 'Male']\n",
      "0.903380423814\n",
      "\n",
      "--- 0.326842069626 seconds ---\n",
      "\n"
     ]
    }
   ],
   "source": [
    "start_time = time.time()\n",
    "\n",
    "#Dataframe filtered for clustered data\n",
    "df = df.loc[(df['speaker_age_range'] == 'Adult') & (df['speaker_language'] == 'EN') & (df['speaker_dialect'] == 'American English')]\n",
    "\n",
    "#Data organization\n",
    "label_names = ['Male','Female']\n",
    "labels = df['speaker_gender']\n",
    "feature_names = ['standard_deviation','inter_quantile_range','first_quantile']\n",
    "features = df[['standard_deviation','inter_quantile_range','first_quantile']].values    \n",
    "\n",
    "print(label_names)\n",
    "print('Class label = ', labels[0])\n",
    "print(feature_names)\n",
    "print(features[0])\n",
    "\n",
    "# Split our data\n",
    "train, test, train_labels, test_labels = train_test_split(features,\n",
    "                                                          labels,\n",
    "                                                          test_size=0.33,\n",
    "                                                          random_state=42)\n",
    "# Initialize our classifier\n",
    "clf_rfc = RandomForestClassifier()\n",
    "\n",
    "# Train our classifier\n",
    "model = clf_rfc.fit(train, train_labels)\n",
    "\n",
    "# Make predictions\n",
    "preds = clf_rfc.predict(test)\n",
    "print(preds)\n",
    "\n",
    "# Evaluate accuracy\n",
    "print(accuracy_score(test_labels, preds))\n",
    "\n",
    "print(\"\")\n",
    "print(\"--- %s seconds ---\" % (time.time() - start_time))\n",
    "print(\"\")"
   ]
  },
  {
   "cell_type": "code",
   "execution_count": null,
   "metadata": {
    "collapsed": true
   },
   "outputs": [],
   "source": []
  }
 ],
 "metadata": {
  "anaconda-cloud": {},
  "kernelspec": {
   "display_name": "Python [conda root]",
   "language": "python",
   "name": "conda-root-py"
  },
  "language_info": {
   "codemirror_mode": {
    "name": "ipython",
    "version": 2
   },
   "file_extension": ".py",
   "mimetype": "text/x-python",
   "name": "python",
   "nbconvert_exporter": "python",
   "pygments_lexer": "ipython2",
   "version": "2.7.13"
  }
 },
 "nbformat": 4,
 "nbformat_minor": 1
}
