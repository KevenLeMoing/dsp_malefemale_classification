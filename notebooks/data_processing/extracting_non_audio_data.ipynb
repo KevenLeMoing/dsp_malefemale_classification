{
 "cells": [
  {
   "cell_type": "code",
   "execution_count": 1,
   "metadata": {
    "collapsed": true
   },
   "outputs": [],
   "source": [
    "import pandas as pd\n",
    "import numpy as np\n",
    "import csv"
   ]
  },
  {
   "cell_type": "markdown",
   "metadata": {},
   "source": [
    "##### Text data extraction (needs for each file)\n",
    "\n",
    "* directory name --> OK\n",
    "\n",
    "\n",
    "* User Name --> README\n",
    "* Gender --> README\n",
    "* Age Range --> README\n",
    "* Language --> README\n",
    "* Pronunciation dialect --> README\n",
    "\n",
    "\n",
    "* filename --> PROMPTS or prompts_original\n",
    "* words --> PROMPTS or prompts_original\n",
    "\n",
    "WARNING: @TODO --> implement throw exception in case the format of these files changes between two directories "
   ]
  },
  {
   "cell_type": "code",
   "execution_count": 9,
   "metadata": {
    "collapsed": false
   },
   "outputs": [
    {
     "name": "stdout",
     "output_type": "stream",
     "text": [
      "1snoke\n",
      "\n",
      "Male\n",
      "\n",
      "Adult\n",
      "\n",
      "48000\n",
      "\n",
      "16\n",
      "\n",
      "American English\n",
      "\n"
     ]
    }
   ],
   "source": [
    "#Extract information from README\n",
    "\n",
    "with open('/Users/kevenlemoing/Sites/sandvik_code_assignement/data/downloads/1snoke-20120412-hge/etc/README', 'r') as f:\n",
    "    for line in f:\n",
    "        if 'User' in line:\n",
    "            user_name = line[10:]\n",
    "        elif 'Gender' in line:\n",
    "            gender = line[8:]\n",
    "        elif 'Age' in line:\n",
    "            age_range = line[11:]\n",
    "        elif 'Language' in line:\n",
    "            language = line[10:]\n",
    "        elif 'dialect' in line:\n",
    "            pronunciation_dialect = line[23:]\n",
    "        elif 'Sampling' in line:\n",
    "            sampling_rate = line[15:]\n",
    "        elif 'Sample' in line:\n",
    "            sample_rate_format = line[20:]\n",
    "            \n",
    "print user_name\n",
    "print gender \n",
    "print age_range\n",
    "print sampling_rate\n",
    "print sample_rate_format\n",
    "print pronunciation_dialect"
   ]
  },
  {
   "cell_type": "code",
   "execution_count": 21,
   "metadata": {
    "collapsed": false
   },
   "outputs": [],
   "source": [
    "#Extract information from the prompts original\n",
    "\n",
    "file_name_list = []\n",
    "sentence_list = []\n",
    "\n",
    "with open('/Users/kevenlemoing/Sites/sandvik_code_assignement/data/downloads/Henry-20130715-swy/etc/prompts-original', 'r') as f:\n",
    "    for line in f:\n",
    "        if \"\\n\" not in line[:2]:\n",
    "            if \"*/\"in line:\n",
    "                line = line.split(\" \")\n",
    "                file_name_list.append(line[0][2:])\n",
    "            else:\n",
    "                line = line.split(\" \")\n",
    "                file_name_list.append(line[0])\n",
    "        \n",
    "\n",
    "#Henry-20130715-swy\n",
    "#Adminvox-05232006\n",
    "#1337ad-20170321-ajg\n",
    "#1snoke-20120412-hge\n",
    "#1028-20100710-hne"
   ]
  },
  {
   "cell_type": "code",
   "execution_count": 22,
   "metadata": {
    "collapsed": false
   },
   "outputs": [
    {
     "data": {
      "text/plain": [
       "['b0355', 'b0356', 'b0357', 'b0358', 'b0359', 'b0360']"
      ]
     },
     "execution_count": 22,
     "metadata": {},
     "output_type": "execute_result"
    }
   ],
   "source": [
    "file_name_list"
   ]
  },
  {
   "cell_type": "code",
   "execution_count": null,
   "metadata": {
    "collapsed": true
   },
   "outputs": [],
   "source": []
  },
  {
   "cell_type": "code",
   "execution_count": null,
   "metadata": {
    "collapsed": true
   },
   "outputs": [],
   "source": []
  },
  {
   "cell_type": "code",
   "execution_count": null,
   "metadata": {
    "collapsed": true
   },
   "outputs": [],
   "source": []
  }
 ],
 "metadata": {
  "anaconda-cloud": {},
  "kernelspec": {
   "display_name": "Python [conda root]",
   "language": "python",
   "name": "conda-root-py"
  },
  "language_info": {
   "codemirror_mode": {
    "name": "ipython",
    "version": 2
   },
   "file_extension": ".py",
   "mimetype": "text/x-python",
   "name": "python",
   "nbconvert_exporter": "python",
   "pygments_lexer": "ipython2",
   "version": "2.7.13"
  }
 },
 "nbformat": 4,
 "nbformat_minor": 1
}
