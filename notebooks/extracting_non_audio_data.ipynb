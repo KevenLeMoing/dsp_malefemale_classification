{
 "cells": [
  {
   "cell_type": "code",
   "execution_count": 1,
   "metadata": {
    "collapsed": true
   },
   "outputs": [],
   "source": [
    "import pandas as pd"
   ]
  },
  {
   "cell_type": "markdown",
   "metadata": {},
   "source": [
    "##### Text data extraction (needs for each file)\n",
    "\n",
    "* filename --> PROMPTS or prompts_original (better)\n",
    "* words --> PROMPTS or prompts_original (better)\n",
    "* phonetic dictionnary used per directory --> HDMan_log\n",
    "* directory name --> OK\n",
    "* User Name --> README\n",
    "* Gender --> README\n",
    "* Age Range --> README\n",
    "* Language --> README\n",
    "* Pronunciation dialect --> README"
   ]
  },
  {
   "cell_type": "code",
   "execution_count": null,
   "metadata": {
    "collapsed": true
   },
   "outputs": [],
   "source": []
  }
 ],
 "metadata": {
  "kernelspec": {
   "display_name": "Python [conda root]",
   "language": "python",
   "name": "conda-root-py"
  },
  "language_info": {
   "codemirror_mode": {
    "name": "ipython",
    "version": 2
   },
   "file_extension": ".py",
   "mimetype": "text/x-python",
   "name": "python",
   "nbconvert_exporter": "python",
   "pygments_lexer": "ipython2",
   "version": "2.7.13"
  }
 },
 "nbformat": 4,
 "nbformat_minor": 1
}
