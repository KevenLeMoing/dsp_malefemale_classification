{
 "cells": [
  {
   "cell_type": "code",
   "execution_count": 1,
   "metadata": {
    "collapsed": true
   },
   "outputs": [],
   "source": [
    "import pandas as pd\n",
    "import numpy as np\n",
    "import csv"
   ]
  },
  {
   "cell_type": "markdown",
   "metadata": {},
   "source": [
    "##### Text data extraction (needs for each file)\n",
    "\n",
    "* directory name --> OK\n",
    "\n",
    "\n",
    "* User Name --> README\n",
    "* Gender --> README\n",
    "* Age Range --> README\n",
    "* Language --> README\n",
    "* Pronunciation dialect --> README\n",
    "\n",
    "\n",
    "* filename --> PROMPTS or prompts_original\n",
    "* words --> PROMPTS or prompts_original\n",
    "\n",
    "WARNING: @TODO --> implement throw exception in case the format of these files changes between two directories "
   ]
  },
  {
   "cell_type": "code",
   "execution_count": 29,
   "metadata": {
    "collapsed": false
   },
   "outputs": [
    {
     "name": "stdout",
     "output_type": "stream",
     "text": [
      "1snoke\n",
      "\n",
      "Male\n",
      "\n",
      "Adult\n",
      "\n",
      "48000\n",
      "\n",
      "16\n",
      "\n"
     ]
    }
   ],
   "source": [
    "#Extract information from README\n",
    "\n",
    "with open('/Users/kevenlemoing/Sites/sandvik_code_assignement/data/downloads/1snoke-20120412-hge/etc/README', 'r') as f:\n",
    "    for line in f:\n",
    "        if 'User' in line:\n",
    "            user_name = line[10:]\n",
    "        elif 'Gender' in line:\n",
    "            gender = line[8:]\n",
    "        elif 'Age' in line:\n",
    "            age_range = line[11:]\n",
    "        elif 'Language' in line:\n",
    "            language = line[10:]\n",
    "        elif 'Sampling' in line:\n",
    "            sampling_rate = line[15:]\n",
    "        elif 'Sample' in line:\n",
    "            sample_rate_format = line[20:]\n",
    "            \n",
    "print user_name\n",
    "print gender \n",
    "print age_range\n",
    "print sampling_rate\n",
    "print sample_rate_format"
   ]
  },
  {
   "cell_type": "code",
   "execution_count": 40,
   "metadata": {
    "collapsed": false
   },
   "outputs": [],
   "source": [
    "#Extract information from the prompts original\n",
    "\n",
    "file_name_list = []\n",
    "sentence_list = []\n",
    "\n",
    "with open('/Users/kevenlemoing/Sites/sandvik_code_assignement/data/downloads/1snoke-20120412-hge/etc/prompts-original', 'r') as f:\n",
    "    for line in f:\n",
    "        file_name_list.append(line[:5])\n",
    "        sentence = \" \".join(line[6:].split())\n",
    "        sentence_list.append(sentence)\n"
   ]
  },
  {
   "cell_type": "code",
   "execution_count": 41,
   "metadata": {
    "collapsed": false
   },
   "outputs": [
    {
     "data": {
      "text/plain": [
       "['It seemed the ordained order of things that dogs should work.',\n",
       " 'And that was the last of Francois and Perrault.',\n",
       " 'Mercedes screamed, cried, laughed, and manifested the chaotic abandonment of hysteria.',\n",
       " 'The Eldorado emptied its occupants into the street to see the test.',\n",
       " 'He could feel a new stir in the land.',\n",
       " 'So we have to fit the boat throughout with oil lamps as well.',\n",
       " 'It will break our hearts and our backs to hoist anchor by hand.',\n",
       " 'There is another virtue in these bulkheads.',\n",
       " 'But I am at the end of my resources.',\n",
       " 'Now our figuring was all right.']"
      ]
     },
     "execution_count": 41,
     "metadata": {},
     "output_type": "execute_result"
    }
   ],
   "source": [
    "sentence_list"
   ]
  },
  {
   "cell_type": "code",
   "execution_count": 42,
   "metadata": {
    "collapsed": false
   },
   "outputs": [
    {
     "data": {
      "text/plain": [
       "['a0405',\n",
       " 'a0406',\n",
       " 'a0407',\n",
       " 'a0408',\n",
       " 'a0409',\n",
       " 'a0410',\n",
       " 'a0411',\n",
       " 'a0412',\n",
       " 'a0413',\n",
       " 'a0414']"
      ]
     },
     "execution_count": 42,
     "metadata": {},
     "output_type": "execute_result"
    }
   ],
   "source": [
    "file_name_list"
   ]
  },
  {
   "cell_type": "code",
   "execution_count": null,
   "metadata": {
    "collapsed": true
   },
   "outputs": [],
   "source": []
  }
 ],
 "metadata": {
  "kernelspec": {
   "display_name": "Python [conda root]",
   "language": "python",
   "name": "conda-root-py"
  },
  "language_info": {
   "codemirror_mode": {
    "name": "ipython",
    "version": 2
   },
   "file_extension": ".py",
   "mimetype": "text/x-python",
   "name": "python",
   "nbconvert_exporter": "python",
   "pygments_lexer": "ipython2",
   "version": "2.7.13"
  }
 },
 "nbformat": 4,
 "nbformat_minor": 1
}
